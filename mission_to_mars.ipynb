{
 "cells": [
  {
   "cell_type": "code",
   "execution_count": 1,
   "metadata": {},
   "outputs": [],
   "source": [
    "# Import dependencies\n",
    "import pandas as pd\n",
    "import requests\n",
    "from config import auth\n",
    "from bs4 import BeautifulSoup as bs\n",
    "\n",
    "# Setup splinter\n",
    "from splinter import Browser\n",
    "executable_path = {'executable_path': 'chromedriver.exe'}\n",
    "browser = Browser('chrome', **executable_path, headless = True)"
   ]
  },
  {
   "cell_type": "code",
   "execution_count": 2,
   "metadata": {},
   "outputs": [],
   "source": [
    "# Get headlines from NASA Mars News\n",
    "mars_news = \"https://mars.nasa.gov/news/?page=0&per_page=40&order=publish_date+desc%2Ccreated_at+desc&search=&category=19%2C165%2C184%2C204&blank_scope=Latest\"\n",
    "browser.visit(mars_news)\n",
    "html = browser.html\n",
    "soup = bs(html, 'html.parser')\n",
    "news_title = soup.find_all('div', class_ = 'image_and_description_container')[0].h3.text\n",
    "news_p = soup.find_all('div', class_ = 'image_and_description_container')[0].text"
   ]
  },
  {
   "cell_type": "code",
   "execution_count": 6,
   "metadata": {},
   "outputs": [],
   "source": [
    "# Get featured image from JPL\n",
    "mars_image = \"https://www.jpl.nasa.gov/spaceimages/?search=&category=Mars\"\n",
    "browser.visit(mars_image)\n",
    "browser.click_link_by_partial_text('FULL IMAGE')\n",
    "try: \n",
    "    html = browser.html\n",
    "    soup = bs(html, 'html.parser')\n",
    "    img = soup.find_all('div', class_ = 'fancybox-wrap')[0].img['src']\n",
    "    featured_image_url = f\"https://www.jpl.nasa.gov{img}\"\n",
    "except:\n",
    "    # For development - in case it fails; troubleshoot html chunks later\n",
    "    featured_image_url = \"https://www.jpl.nasa.gov/spaceimages/images/largesize/PIA17978_hires.jpg\""
   ]
  },
  {
   "cell_type": "code",
   "execution_count": 7,
   "metadata": {},
   "outputs": [],
   "source": [
    "# Twitter API access\n",
    "headers = {'Authorization': 'Basic ' + auth}\n",
    "data = [('grant_type', 'client_credentials')]\n",
    "response = requests.post('https://api.twitter.com/oauth2/token', headers = headers, data = data).json()\n",
    "\n",
    "# Set authorization header using token\n",
    "headers = {'Authorization': 'Bearer ' + response['access_token']}"
   ]
  },
  {
   "cell_type": "code",
   "execution_count": 8,
   "metadata": {},
   "outputs": [],
   "source": [
    "# Get latest tweet from Mars Weather twitter\n",
    "twitter = \"https://api.twitter.com/1.1/statuses/user_timeline.json?screen_name=MarsWxReport&exclude_replies=true&include_rts=false\"\n",
    "request = requests.get(twitter, headers = headers).json()\n",
    "\n",
    "weather_tweets = []\n",
    "for i in range(0, len(request)):\n",
    "    if(request[i]['text'][0:4] == 'Sol '):\n",
    "        weather_tweets.append(request[i]['text'])\n",
    "\n",
    "mars_weather = weather_tweets[0]"
   ]
  },
  {
   "cell_type": "code",
   "execution_count": 8,
   "metadata": {},
   "outputs": [
    {
     "name": "stdout",
     "output_type": "stream",
     "text": [
      "<table border=\"1\" class=\"dataframe\">\n",
      "  <thead>\n",
      "    <tr style=\"text-align: right;\">\n",
      "      <th></th>\n",
      "      <th>value</th>\n",
      "    </tr>\n",
      "    <tr>\n",
      "      <th>description</th>\n",
      "      <th></th>\n",
      "    </tr>\n",
      "  </thead>\n",
      "  <tbody>\n",
      "    <tr>\n",
      "      <th>Equatorial Diameter:</th>\n",
      "      <td>6,792 km</td>\n",
      "    </tr>\n",
      "    <tr>\n",
      "      <th>Polar Diameter:</th>\n",
      "      <td>6,752 km</td>\n",
      "    </tr>\n",
      "    <tr>\n",
      "      <th>Mass:</th>\n",
      "      <td>6.42 x 10^23 kg (10.7% Earth)</td>\n",
      "    </tr>\n",
      "    <tr>\n",
      "      <th>Moons:</th>\n",
      "      <td>2 (Phobos &amp; Deimos)</td>\n",
      "    </tr>\n",
      "    <tr>\n",
      "      <th>Orbit Distance:</th>\n",
      "      <td>227,943,824 km (1.52 AU)</td>\n",
      "    </tr>\n",
      "    <tr>\n",
      "      <th>Orbit Period:</th>\n",
      "      <td>687 days (1.9 years)</td>\n",
      "    </tr>\n",
      "    <tr>\n",
      "      <th>Surface Temperature:</th>\n",
      "      <td>-153 to 20 °C</td>\n",
      "    </tr>\n",
      "    <tr>\n",
      "      <th>First Record:</th>\n",
      "      <td>2nd millennium BC</td>\n",
      "    </tr>\n",
      "    <tr>\n",
      "      <th>Recorded By:</th>\n",
      "      <td>Egyptian astronomers</td>\n",
      "    </tr>\n",
      "  </tbody>\n",
      "</table>\n"
     ]
    }
   ],
   "source": [
    "# Get table of facts about mars\n",
    "tables = pd.read_html(\"https://space-facts.com/mars/\")\n",
    "table = tables[0].rename(columns = {0: 'description',\n",
    "                               1: 'value'})\n",
    "table = table.set_index('description')\n",
    "mars_table_html = table.to_html()\n",
    "print(mars_table_html)"
   ]
  },
  {
   "cell_type": "code",
   "execution_count": 10,
   "metadata": {},
   "outputs": [
    {
     "name": "stdout",
     "output_type": "stream",
     "text": [
      "Retreiving image for Cerberus Hemisphere Enhanced\n",
      "Retreiving image for Schiaparelli Hemisphere Enhanced\n",
      "Retreiving image for Syrtis Major Hemisphere Enhanced\n",
      "Retreiving image for Valles Marineris Hemisphere Enhanced\n"
     ]
    }
   ],
   "source": [
    "# Get URLs for Mars hemisphere images\n",
    "hemisphere_url = \"https://astrogeology.usgs.gov/search/results?q=hemisphere+enhanced&k1=target&v1=Mars\"\n",
    "browser.visit(hemisphere_url)\n",
    "html = browser.html\n",
    "soup = bs(html, 'html.parser')\n",
    "\n",
    "# Get list of hempisphere link names\n",
    "img_names = soup.find_all('div', class_ = 'item')\n",
    "\n",
    "# Loop through list and save url for each img\n",
    "hemisphere_image_urls = []\n",
    "for i in range(0, len(img_names)):\n",
    "    # Get text to use to click through to image page\n",
    "    link_text = img_names[i].h3.text\n",
    "    print(f\"Retreiving image for {link_text}\")\n",
    "    \n",
    "    # Navigate browser, get page\n",
    "    browser.click_link_by_partial_text(link_text)\n",
    "    html = browser.html\n",
    "    soup = bs(html, 'html.parser')\n",
    "   \n",
    "    # Find image link and save\n",
    "    img = soup.find_all('div', class_ = 'downloads')[0].li.a['href']\n",
    "    dictionary = {'title': link_text,\n",
    "                 'img_url': img}\n",
    "    hemisphere_image_urls.append(dictionary)\n",
    "    \n",
    "    # Click back to homepage\n",
    "    browser.visit(hemisphere_url)"
   ]
  },
  {
   "cell_type": "code",
   "execution_count": 11,
   "metadata": {},
   "outputs": [],
   "source": [
    "# Compile scraped data into a dictionary\n",
    "mars_dict = {'mars_news_title': news_title,\n",
    "             'mars_news_paragraph': news_p,\n",
    "             'jpl_featured_image': featured_image_url,\n",
    "             'mars_weather': mars_weather,\n",
    "             'mars_table': mars_table_html,\n",
    "             'hemisphere_image_urls': hemisphere_image_urls}"
   ]
  }
 ],
 "metadata": {
  "kernelspec": {
   "display_name": "Python [conda env:PythonData]",
   "language": "python",
   "name": "conda-env-PythonData-py"
  },
  "language_info": {
   "codemirror_mode": {
    "name": "ipython",
    "version": 3
   },
   "file_extension": ".py",
   "mimetype": "text/x-python",
   "name": "python",
   "nbconvert_exporter": "python",
   "pygments_lexer": "ipython3",
   "version": "3.6.6"
  }
 },
 "nbformat": 4,
 "nbformat_minor": 2
}
